{
 "cells": [
  {
   "cell_type": "code",
   "execution_count": 1,
   "metadata": {},
   "outputs": [],
   "source": [
    "import pandas as pd\n",
    "import folium\n",
    "#mapping ssid"
   ]
  },
  {
   "cell_type": "code",
   "execution_count": 2,
   "metadata": {},
   "outputs": [],
   "source": [
    "###mapping locations logitude and laitiude \n",
    "mymap = folium.Map( location =[32.1256 , 110.5639], zoom_start = 12)\n",
    "#folium.PolyLine(df[[]])\n",
    "mymap.save('testone.html')"
   ]
  },
  {
   "cell_type": "code",
   "execution_count": null,
   "metadata": {},
   "outputs": [],
   "source": [
    "##sorting\n",
    "\n",
    "sorter = \n",
    "\n",
    "valid = []\n",
    "\n",
    "invalid = []\n",
    "\n",
    "for rows in sorter[[]]:\n",
    "    if str(rows[] == \"WIFI\"):\n",
    "        valid.append(rows)\n",
    "        \n",
    "        \n"
   ]
  },
  {
   "cell_type": "code",
   "execution_count": null,
   "metadata": {},
   "outputs": [],
   "source": [
    "location = pd.read.csv()\n",
    "\n",
    "for rows in location['MAC', 'SSID', 'Authmode', 'FirstSeen', 'Channel', 'RSSI', 'CurrentLatitude', 'CurrentLongitude', 'AltitudeMeters', 'AccuracyMeters', 'Type']:\n",
    "if (rows[6] < 31.3334 or rows[6] > 36.9989) and (rows[7] < -114.8141 or rows[7] > -109.0451): #first set is latitude second is longitude\n",
    "    print('yay') #number is outside range and placeholder\n",
    "else:\n",
    "    print('nay')#number in range and placeholder\n"
   ]
  }
 ],
 "metadata": {
  "kernelspec": {
   "display_name": "Python 3",
   "language": "python",
   "name": "python3"
  },
  "language_info": {
   "codemirror_mode": {
    "name": "ipython",
    "version": 3
   },
   "file_extension": ".py",
   "mimetype": "text/x-python",
   "name": "python",
   "nbconvert_exporter": "python",
   "pygments_lexer": "ipython3",
   "version": "3.10.6"
  }
 },
 "nbformat": 4,
 "nbformat_minor": 2
}
