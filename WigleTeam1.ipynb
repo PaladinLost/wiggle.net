{
 "cells": [
  {
   "cell_type": "code",
   "execution_count": null,
   "id": "fd7cee8d",
   "metadata": {},
   "outputs": [],
   "source": [
    "In [ ]: \n",
    "    import pandas as pd\n",
    "    import folium\n",
    "    df = pd.read_csv('pathToOutFile.csv', delimiter = ',', encoding='latin-1', header=1)\n",
    "     \n",
    "    mymap = folium.Map( location=[ df.CurrentLatitude.mean(), df.CurrentLongitude.mean() ], zoom_start=12)\n",
    "        for coord in df[['CurrentLatitude','CurrentLongitude', 'SSID', 'Type', 'MAC']].values:\n",
    "            if (coord[3] == 'WIFI'):\n",
    "                folium.CircleMarker(location=[coord[0],coord[1]], radius=1,color='red', popup=[\"SSID:\", coord[2], \"BSSID:\", coord[4]]).add_to(mymap)\n",
    "                \n",
    "    mymap.save('testone.html')"
   ]
  },
  {
   "cell_type": "code",
   "execution_count": null,
   "id": "0d39b46a",
   "metadata": {},
   "outputs": [],
   "source": [
    "%%HTML\n",
    "<iframe width=\"60%\" height=\"450\" src=\"testone.html\"></iframe>"
   ]
  },
  {
   "cell_type": "code",
   "execution_count": null,
   "id": "1077c39a",
   "metadata": {},
   "outputs": [],
   "source": []
  }
 ],
 "metadata": {
  "kernelspec": {
   "display_name": "Python 3 (ipykernel)",
   "language": "python",
   "name": "python3"
  },
  "language_info": {
   "codemirror_mode": {
    "name": "ipython",
    "version": 3
   },
   "file_extension": ".py",
   "mimetype": "text/x-python",
   "name": "python",
   "nbconvert_exporter": "python",
   "pygments_lexer": "ipython3",
   "version": "3.12.1"
  }
 },
 "nbformat": 4,
 "nbformat_minor": 5
}
