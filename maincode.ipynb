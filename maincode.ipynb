{
 "cells": [
  {
   "cell_type": "code",
   "execution_count": 37,
   "metadata": {},
   "outputs": [],
   "source": [
    "# Import Libraries\n",
    "import requests\n",
    "import pandas as pd\n",
    "import numpy as np\n",
    "import folium\n",
    "import random"
   ]
  },
  {
   "cell_type": "code",
   "execution_count": 38,
   "metadata": {},
   "outputs": [],
   "source": [
    "# Constants\n",
    "LAT_LOWER = 31.3334\n",
    "LAT_UPPER = 36.9989\n",
    "LONG_LOWER = -114.8141\n",
    "LONG_UPPER = -109.0451\n",
    "\n",
    "API_ENCODING = \"Basic [Encoded for use here]\" # Add your \"Encoded for use\" token found on https://wigle.net/account here"
   ]
  },
  {
   "cell_type": "code",
   "execution_count": 39,
   "metadata": {},
   "outputs": [],
   "source": [
    "def searchSSID(query, map) :\n",
    "    # Builds search query request url\n",
    "    urlBase = \"https://api.wigle.net/api/v2/network/search?ssid=\"\n",
    "    urlQuery = query.replace(\" \", \"%20\")\n",
    "    urlParams = \"&region=AZ\"\n",
    "    urlSearchAfter = \"\"\n",
    "\n",
    "    markerColor = randomHexColor()\n",
    "\n",
    "    while True :\n",
    "        urlFull = urlBase + urlQuery + urlParams + urlSearchAfter\n",
    "        \n",
    "        # Initate GET Request\n",
    "        response = requests.get(urlFull, headers = {'Authorization' : API_ENCODING})\n",
    "\n",
    "        if response.status_code == 200 :\n",
    "            results = response.json().get(\"results\", [])\n",
    "            trilats = [result.get(\"trilat\") for result in results]\n",
    "            trilongs = [result.get(\"trilong\") for result in results]\n",
    "\n",
    "            # Plot points on the \n",
    "            for i in range(len(trilats)) :\n",
    "                plotPoints([trilats[i],trilongs[i]], map, query, markerColor)\n",
    "            \n",
    "            # Break if on last page of results\n",
    "            if int(response.json()[\"last\"]) < 100 :\n",
    "                break\n",
    "\n",
    "            # URL for next page of results\n",
    "            urlSearchAfter = \"&searchAfter=\" + response.json()[\"searchAfter\"]\n",
    "            \n",
    "        else:\n",
    "            print(\"Failed \\nMessage: %s\" %response.json()['message'])\n",
    "            break"
   ]
  },
  {
   "cell_type": "code",
   "execution_count": 40,
   "metadata": {},
   "outputs": [],
   "source": [
    "# Adds poits to interactive map\n",
    "def plotPoints(coords, map, tooltip, color=\"blue\") :\n",
    "    folium.CircleMarker(\n",
    "        location=coords, \n",
    "        radius=3, \n",
    "        tooltip=tooltip,\n",
    "        color=color).add_to(map)\n",
    "    "
   ]
  },
  {
   "cell_type": "code",
   "execution_count": 41,
   "metadata": {},
   "outputs": [],
   "source": [
    "# Generates a random hexadecimal color string\n",
    "def randomHexColor() :\n",
    "    # Generate random RGB values\n",
    "    red = random.randint(0,255)\n",
    "    green = random.randint(0,255)\n",
    "    blue = random.randint(0,255)\n",
    "\n",
    "    # Convert RGB values to hexadecimal\n",
    "    hexColor = \"#{:02x}{:02x}{:02x}\".format(red, green, blue)\n",
    "\n",
    "    return hexColor"
   ]
  },
  {
   "cell_type": "code",
   "execution_count": 42,
   "metadata": {},
   "outputs": [],
   "source": [
    "# Create interactive map\n",
    "map = folium.Map(location=[(LAT_LOWER+LAT_UPPER)/2,(LONG_LOWER+LONG_UPPER)/2], zoom_start=7)\n",
    "\n",
    "searchSSID(\"McDonalds\", map)\n",
    "searchSSID(\"Test Network\", map)\n",
    "map.save(\"WigleMap.html\")"
   ]
  }
 ],
 "metadata": {
  "kernelspec": {
   "display_name": "Python 3",
   "language": "python",
   "name": "python3"
  },
  "language_info": {
   "codemirror_mode": {
    "name": "ipython",
    "version": 3
   },
   "file_extension": ".py",
   "mimetype": "text/x-python",
   "name": "python",
   "nbconvert_exporter": "python",
   "pygments_lexer": "ipython3",
   "version": "3.11.1"
  }
 },
 "nbformat": 4,
 "nbformat_minor": 2
}
