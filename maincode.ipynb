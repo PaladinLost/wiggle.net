{
 "cells": [
  {
   "cell_type": "code",
   "execution_count": 51,
   "metadata": {},
   "outputs": [],
   "source": [
    "# Import Libraries\n",
    "import requests\n",
    "import pandas as pd\n",
    "import numpy as np\n",
    "import folium"
   ]
  },
  {
   "cell_type": "code",
   "execution_count": 52,
   "metadata": {},
   "outputs": [],
   "source": [
    "# Constants\n",
    "LAT_LOWER = 31.3334\n",
    "LAT_UPPER = 36.9989\n",
    "LONG_LOWER = -114.8141\n",
    "LONG_UPPER = -109.0451\n",
    "\n",
    "API_ENCODING = \"Basic [Your Encoding Here]\" # Add your Encoded for use token found on https://wigle.net/account here"
   ]
  },
  {
   "cell_type": "code",
   "execution_count": 53,
   "metadata": {},
   "outputs": [],
   "source": [
    "def searchSSID(query, map) :\n",
    "    # Builds search query request url\n",
    "    urlBase = \"https://api.wigle.net/api/v2/network/search?\"\n",
    "    urlParams = \"&latrange1=\" + str(LAT_LOWER) + \"&latrange2=\" + str(LAT_UPPER) + \"&longrange1=\" + str(LONG_LOWER) + \"&longrange2=\" + str(LONG_UPPER) + \"&ssid=\"\n",
    "    query = query.replace(\" \", \"%20\")\n",
    "    urlWithQuery = urlBase + urlParams + query\n",
    "    \n",
    "    # Initate GET Request\n",
    "    response = requests.get(urlWithQuery, headers = {'Authorization' : API_ENCODING})\n",
    "\n",
    "    if response.status_code == 200 :\n",
    "        results = response.json().get(\"results\", [])\n",
    "        trilats = [result.get(\"trilat\") for result in results]\n",
    "        trilongs = [result.get(\"trilong\") for result in results]\n",
    "\n",
    "        for i in range(len(trilats)) :\n",
    "            plotPoints([trilats[i],trilongs[i]], map)\n",
    "    else:\n",
    "        print(\"Failed \\nMessage: %s\" %response.json()['message'])"
   ]
  },
  {
   "cell_type": "code",
   "execution_count": 54,
   "metadata": {},
   "outputs": [],
   "source": [
    "# Adds poits to interactive map\n",
    "def plotPoints(coords, map) :\n",
    "    folium.CircleMarker(coords, 3).add_to(map)\n",
    "    "
   ]
  },
  {
   "cell_type": "code",
   "execution_count": 55,
   "metadata": {},
   "outputs": [],
   "source": [
    "# Create interactive map\n",
    "map = folium.Map(location=[(LAT_LOWER+LAT_UPPER)/2,(LONG_LOWER+LONG_UPPER)/2], zoom_start=7)\n",
    "\n",
    "searchSSID(\"McDonalds\", map)\n",
    "\n",
    "map.save(\"WigleMap.html\")"
   ]
  }
 ],
 "metadata": {
  "kernelspec": {
   "display_name": "Python 3",
   "language": "python",
   "name": "python3"
  },
  "language_info": {
   "codemirror_mode": {
    "name": "ipython",
    "version": 3
   },
   "file_extension": ".py",
   "mimetype": "text/x-python",
   "name": "python",
   "nbconvert_exporter": "python",
   "pygments_lexer": "ipython3",
   "version": "3.11.1"
  }
 },
 "nbformat": 4,
 "nbformat_minor": 2
}
